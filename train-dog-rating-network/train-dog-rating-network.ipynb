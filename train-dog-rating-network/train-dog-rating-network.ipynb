{
 "cells": [
  {
   "cell_type": "markdown",
   "metadata": {},
   "source": [
    "# Week 1 - Introduction to AI\n",
    "\n",
    "## Train a dog rating network\n",
    "\n",
    "In this code we will see how to train a dog rating network using the [we rate dogs dataset](https://www.kaggle.com/datasets/terencebroad/we-rate-dogs-images-ratings-and-captions).\n",
    "\n",
    "The code has been written for you. Your job today is to run the code to train a dog rating network and to write comments for the code. Work your way through the code and try to write a comment for each line. Lines that you do not understand and cannot write comments for, add them to the miro board (link in moodle) for dicussion at the end of the session.\n",
    "\n",
    "First lets do some imports:"
   ]
  },
  {
   "cell_type": "code",
   "execution_count": 6,
   "metadata": {},
   "outputs": [],
   "source": [
    "import torch\n",
    "import torchvision\n",
    "import torch.nn as nn\n",
    "import torch.optim as optim\n",
    "import torch.nn.functional as F\n",
    "import torchvision.transforms as transforms"
   ]
  },
  {
   "cell_type": "markdown",
   "metadata": {},
   "source": [
    "Import some more functions:"
   ]
  },
  {
   "cell_type": "code",
   "execution_count": 7,
   "metadata": {},
   "outputs": [],
   "source": [
    "# Import dog rating model from src/model.py\n",
    "from src.model import DogRatingNetwork\n",
    "# Import We rate dogs dataset loading class from src/data_util.py\n",
    "from src.data_util import WeRateDogsDataset\n",
    "# Import data loader class from: https://pytorch.org/docs/stable/data.html#torch.utils.data.DataLoader\n",
    "from torch.utils.data import DataLoader"
   ]
  },
  {
   "cell_type": "markdown",
   "metadata": {},
   "source": [
    "Here we will define some hyperparameters. In your comment can you describe what each variable is for? (It's ok if you don't know everything!)"
   ]
  },
  {
   "cell_type": "code",
   "execution_count": 8,
   "metadata": {},
   "outputs": [],
   "source": [
    "# Set device for tensors on machine.\n",
    "# This could be 'mps' on an M1/M2 mac\n",
    "# or 'cuda' on an NVIDIA GPU\n",
    "device = 'cpu'\n",
    "# Hyperparameter coniguring how much rolling average over gradients there is\n",
    "momentum = 0.9\n",
    "# Number of cycles through the dataset in training\n",
    "num_epochs = 10\n",
    "# The number of data samples processed at once in training\n",
    "batch_size = 100\n",
    "# Hyperparameter that controls how aggressive weight updates are in training\n",
    "learn_rate = 0.001\n",
    "# Path to training dataset\n",
    "data_path = '../data/class-datasets/we-rate-dogs-dataset/'"
   ]
  },
  {
   "cell_type": "markdown",
   "metadata": {},
   "source": [
    "Here we define image transformations. Can you describe what each transform is doing?"
   ]
  },
  {
   "cell_type": "code",
   "execution_count": 9,
   "metadata": {},
   "outputs": [],
   "source": [
    "# The set of transforms used when loading in images\n",
    "transform = transforms.Compose(\n",
    "    [   \n",
    "        # This transform resizes images so that the shortest length (width or height) is 64 pixels\n",
    "        torchvision.transforms.Resize(64, antialias=True),\n",
    "        # Crop image to a 64x64 pixel square\n",
    "        torchvision.transforms.CenterCrop(64),\n",
    "        # Convert to pytorch tensor\n",
    "        transforms.ToTensor(),\n",
    "        # Normalise pixel values to range 0-1, centered around 0.5\n",
    "        transforms.Normalize((0.5, 0.5, 0.5), (0.5, 0.5, 0.5))\n",
    "    ])"
   ]
  },
  {
   "cell_type": "markdown",
   "metadata": {},
   "source": [
    "Defining our dataset and dataloader:"
   ]
  },
  {
   "cell_type": "code",
   "execution_count": 11,
   "metadata": {},
   "outputs": [],
   "source": [
    "# Create dataset class \n",
    "# This defines where the dataset is and how data is loaded into the code\n",
    "dataset = WeRateDogsDataset(data_path, transform=transform)\n",
    "# Create dataloader class \n",
    "# This controls how batches are loaded in sequence\n",
    "# Here we are randomly shuffling the data each time we load an epoch\n",
    "train_loader = DataLoader(dataset, batch_size=batch_size, shuffle=True)"
   ]
  },
  {
   "cell_type": "markdown",
   "metadata": {},
   "source": [
    "Initialising core objects for training. What are all of these objects?\n",
    "\n",
    "Try referring to the [PyTorch reference](https://pytorch.org/docs/stable/index.html) for functions or objects that you are unsure of. "
   ]
  },
  {
   "cell_type": "code",
   "execution_count": 12,
   "metadata": {},
   "outputs": [],
   "source": [
    "# Create our dog rating neural network\n",
    "model = DogRatingNetwork()\n",
    "# Move the weights of our model to our specified hardware device\n",
    "model.to(device)\n",
    "# Loss function for training\n",
    "# This is the mean squared error loss \n",
    "criterion = nn.MSELoss()\n",
    "# Stochastic gradient descent optimiser for updating weights of model\n",
    "optimizer = optim.SGD(model.parameters(), lr=0.001, momentum=0.9)"
   ]
  },
  {
   "cell_type": "markdown",
   "metadata": {},
   "source": [
    "This is the training loop. Again, can you describe what each line of code does?"
   ]
  },
  {
   "cell_type": "code",
   "execution_count": null,
   "metadata": {},
   "outputs": [],
   "source": [
    "# Variable for running loss\n",
    "# Start with a very high number so that we can track the lowest running value\n",
    "best_loss = 100000\n",
    "\n",
    "# For loop iterating over the number of epochs set in num_epochs\n",
    "for epoch in range(num_epochs): \n",
    "    \n",
    "    # Create a variable for the running loss over the whole epoch\n",
    "    running_loss = 0.0\n",
    "    \n",
    "    # For loop iterating over all the batches in one cycle of the dataset\n",
    "    for i, data in enumerate(train_loader, 0):\n",
    "        # Extract image batch and dog sore labels from the tuple 'data'\n",
    "        inputs, labels = data\n",
    "        # Move images to hardware device tensor\n",
    "        inputs = inputs.to(device)\n",
    "        # Move labels to hardware device tensor\n",
    "        labels = labels.to(device)\n",
    "        # Clear gradients from previous iterations\n",
    "        optimizer.zero_grad()\n",
    "        # Process images to get predictions\n",
    "        outputs = model(inputs)\n",
    "        # Compare predictions to the true labels of dog scores and get loss\n",
    "        loss = criterion(outputs, labels.unsqueeze(1))\n",
    "        # Backpropagate loss through the network\n",
    "        loss.backward()\n",
    "        # Update the weights of the network\n",
    "        optimizer.step()\n",
    "        # Add loss for this iteration to running losss\n",
    "        running_loss += loss.item()\n",
    "    \n",
    "    # Track output after single epoch\n",
    "    print(f'Epoch {epoch + 1}, total loss: {running_loss:.3f}')\n",
    "    # If the current loss is better than the best overall loss\n",
    "    if running_loss < best_loss:\n",
    "        # Update best overaall to current overall loss\n",
    "        best_loss = running_loss\n",
    "        # Save model outputs\n",
    "        torch.save(model.state_dict(), 'model.pt')\n",
    "    \n",
    "    # Reset the value of the running loss before starting new epoch\n",
    "    running_loss = 0.0"
   ]
  },
  {
   "cell_type": "markdown",
   "metadata": {},
   "source": [
    "Once you have tried to write comments for all the code here. Move on to the file test-dog-rating-network.ipynb to test out your trained network. \n",
    "\n",
    "If you want a further challenge, look at the files in the `src` folder (`src/data_util.py`, (`src/model.py`). Can you write comments for the code in there?"
   ]
  }
 ],
 "metadata": {
  "kernelspec": {
   "display_name": "aim",
   "language": "python",
   "name": "python3"
  },
  "language_info": {
   "codemirror_mode": {
    "name": "ipython",
    "version": 3
   },
   "file_extension": ".py",
   "mimetype": "text/x-python",
   "name": "python",
   "nbconvert_exporter": "python",
   "pygments_lexer": "ipython3",
   "version": "3.9.18"
  }
 },
 "nbformat": 4,
 "nbformat_minor": 2
}
